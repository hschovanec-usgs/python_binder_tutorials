{
 "cells": [
  {
   "cell_type": "markdown",
   "metadata": {},
   "source": [
    "## Introduction to Object Oriented Programming\n",
    "In this notebook we will explore object oriented programming in Python and cover the following topics:\n",
    "\n",
    "- [Definitions](#Definitions)\n",
    "- [Class Structure](#Class-Structure)\n",
    "    - [Class Level Variables](#1.-Class-Level-Variables)\n",
    "    - [The Special Methods](#2.-The-Special-Methods)\n",
    "    - [Regular Instance Methods](#3.-Regular-Instance-Methods)\n",
    "    - [Properties](#4.-Properties)\n",
    "    - [Static Methods](#5.-Static-Methods)\n",
    "    - [Class Methods](#6.-Class-Methods)\n",
    "- [Inheritance](#Inheritance)\n",
    "- [References](#References)\n"
   ]
  },
  {
   "cell_type": "markdown",
   "metadata": {},
   "source": [
    "## Classes\n",
    "### Definitions\n",
    "Let's start our introduction by outlining some definitions:\n",
    "- Classes: Classes are a way for programmers to create a user-defined data structure. \n",
    "- Method: A function belonging to a class. These can access information about the class.\n",
    "- Instance: An object built from a class that contains data. \n",
    "\n",
    "### Class Structure\n",
    "There are several key components to a class, which we will go though in detail. We will create a class that uses libcomcat to get information about an earthquake.\n",
    "\n",
    "We will be using [`get_event_by_id`](https://github.com/usgs/libcomcat/blob/master/libcomcat/classes.py#L352) which gives us acces to a class called DetailEvent and all of it's methods."
   ]
  },
  {
   "cell_type": "code",
   "execution_count": 1,
   "metadata": {},
   "outputs": [],
   "source": [
    "import libcomcat\n",
    "from libcomcat.search import get_event_by_id"
   ]
  },
  {
   "cell_type": "code",
   "execution_count": 2,
   "metadata": {},
   "outputs": [],
   "source": [
    "?libcomcat.search.get_event_by_id"
   ]
  },
  {
   "cell_type": "markdown",
   "metadata": {},
   "source": [
    "#### 1. Class Level Variables \n",
    "The most basic class may only have class level variables. These are constants that are held within the scope of the class. Below is a basic class called `Event` that has the class variable `SOURCE`. It is common practice to name constants with all capital letters."
   ]
  },
  {
   "cell_type": "code",
   "execution_count": 3,
   "metadata": {},
   "outputs": [],
   "source": [
    "class Event:\n",
    "    SOURCE = (\"All data is sourced from COMCAT\\n\"\n",
    "             \"Equivalent information can be found at: \"\n",
    "              \"https://earthquake.usgs.gov/earthquakes/search/\")"
   ]
  },
  {
   "cell_type": "markdown",
   "metadata": {},
   "source": [
    "`event` will be our instance of `Event`:"
   ]
  },
  {
   "cell_type": "code",
   "execution_count": 4,
   "metadata": {},
   "outputs": [
    {
     "name": "stdout",
     "output_type": "stream",
     "text": [
      "<class '__main__.Event'>\n"
     ]
    }
   ],
   "source": [
    "event = Event()\n",
    "print(type(event))"
   ]
  },
  {
   "cell_type": "markdown",
   "metadata": {},
   "source": [
    "Normally we would never try to access class level variables and they should only be used internally within the class, but we can still examine it here:"
   ]
  },
  {
   "cell_type": "code",
   "execution_count": 5,
   "metadata": {},
   "outputs": [
    {
     "data": {
      "text/plain": [
       "'All data is sourced from COMCAT\\nEquivalent information can be found at: https://earthquake.usgs.gov/earthquakes/search/'"
      ]
     },
     "execution_count": 5,
     "metadata": {},
     "output_type": "execute_result"
    }
   ],
   "source": [
    "event.SOURCE"
   ]
  },
  {
   "cell_type": "markdown",
   "metadata": {},
   "source": [
    "#### 2. The Special Methods\n",
    "The __init__ method is a special method that is invoked when an object is instantiated. It can be used to set parameters and accept arguments. If we update the Event class with the init method we can accept an eventid as an argument and then set a class property called eventid, which can be accessed by other methods in the class."
   ]
  },
  {
   "cell_type": "code",
   "execution_count": 7,
   "metadata": {},
   "outputs": [],
   "source": [
    "class Event:\n",
    "    SOURCE = (\"All data is sourced from COMCAT\\n\"\n",
    "             \"Equivalent information can be found at: \"\n",
    "              \"https://earthquake.usgs.gov/earthquakes/search/\")\n",
    "    \n",
    "    def __init__(self, event):\n",
    "        self.eventid = event"
   ]
  },
  {
   "cell_type": "markdown",
   "metadata": {},
   "source": [
    "Above you can see that we have to define a parameter with `self.` and the class methods need to accept `self` as the first argument. `self` is used to represent the current instance of the class. You do not need to pass two values to the class. The instance is automatically passed as the first argument."
   ]
  },
  {
   "cell_type": "code",
   "execution_count": 8,
   "metadata": {},
   "outputs": [
    {
     "name": "stdout",
     "output_type": "stream",
     "text": [
      "us70008jr5\n"
     ]
    }
   ],
   "source": [
    "## Example Challis, Idaho - 6.5\n",
    "event = Event('us70008jr5')\n",
    "\n",
    "print(event.eventid)"
   ]
  },
  {
   "cell_type": "markdown",
   "metadata": {},
   "source": [
    "There are other special methods that can be overrident to provide more information:\n",
    "\n",
    "    - __str__: Returns the string representatin of the object.\n",
    "    - __repr__: Returns the object representation"
   ]
  },
  {
   "cell_type": "code",
   "execution_count": 9,
   "metadata": {},
   "outputs": [
    {
     "data": {
      "text/plain": [
       "'<__main__.Event object at 0x16a3199d0>'"
      ]
     },
     "execution_count": 9,
     "metadata": {},
     "output_type": "execute_result"
    }
   ],
   "source": [
    "## STR\n",
    "str(event)"
   ]
  },
  {
   "cell_type": "code",
   "execution_count": 10,
   "metadata": {},
   "outputs": [
    {
     "data": {
      "text/plain": [
       "'<__main__.Event object at 0x16a3199d0>'"
      ]
     },
     "execution_count": 10,
     "metadata": {},
     "output_type": "execute_result"
    }
   ],
   "source": [
    "## REPR\n",
    "repr(event)"
   ]
  },
  {
   "cell_type": "markdown",
   "metadata": {},
   "source": [
    "We can override these methods and change the output. Since we have set the parameter `eventid`, our new methods can access them using `self.`. \n"
   ]
  },
  {
   "cell_type": "code",
   "execution_count": null,
   "metadata": {},
   "outputs": [],
   "source": [
    "class Event:\n",
    "    SOURCE = (\"All data is sourced from COMCAT\\n\"\n",
    "             \"Equivalent information can be found at: \"\n",
    "              \"https://earthquake.usgs.gov/earthquakes/search/\")\n",
    "    \n",
    "    def __init__(self, event):\n",
    "        self.eventid = event\n",
    "        \n",
    "    def __str__(self):\n",
    "        return f\"Event for {self.eventid}\""
   ]
  },
  {
   "cell_type": "code",
   "execution_count": null,
   "metadata": {},
   "outputs": [],
   "source": [
    "event = Event('us70008jr5')"
   ]
  },
  {
   "cell_type": "code",
   "execution_count": null,
   "metadata": {},
   "outputs": [],
   "source": [
    "str(event)"
   ]
  },
  {
   "cell_type": "markdown",
   "metadata": {},
   "source": [
    "#### 3. Regular Instance Methods\n",
    "Regular instance methods should accept the class instance (self) as the first argument and can use it within the method."
   ]
  },
  {
   "cell_type": "code",
   "execution_count": null,
   "metadata": {},
   "outputs": [],
   "source": [
    "class Event:\n",
    "    SOURCE = (\"All data is sourced from COMCAT\\n\"\n",
    "             \"Equivalent information can be found at: \"\n",
    "              \"https://earthquake.usgs.gov/earthquakes/search/\")\n",
    "    \n",
    "    def __init__(self, event_string):\n",
    "        self.eventid = event_string\n",
    "        self.get_event()\n",
    "        \n",
    "        \n",
    "    def __str__(self):\n",
    "        return f\"Event for {self.eventid}\"\n",
    "    \n",
    "    def get_event(self):\n",
    "        \"\"\"Get's the event from libcomcat.\"\"\"\n",
    "        self._libcomcat_event = get_event_by_id(self.eventid)\n",
    "        \n",
    "    def list_origin_sources(self):\n",
    "        \"\"\"Lists sources contributing origins.\n",
    "        \n",
    "        Returns:\n",
    "            list: List of origin sources.\n",
    "        \"\"\"\n",
    "        origins =  self._libcomcat_event.getProducts('origin',\n",
    "                                                 source='all', version='all')\n",
    "        sources = [o.source for o in origins]\n",
    "        return sources\n",
    "        "
   ]
  },
  {
   "cell_type": "code",
   "execution_count": null,
   "metadata": {},
   "outputs": [],
   "source": [
    "event = Event('us70008jr5')"
   ]
  },
  {
   "cell_type": "code",
   "execution_count": null,
   "metadata": {},
   "outputs": [],
   "source": [
    "event.list_origin_sources()"
   ]
  },
  {
   "cell_type": "markdown",
   "metadata": {},
   "source": [
    "#### 4. Properties\n",
    "Properties look like classes, but the `@property` decorator is used to denote that the function returns an attribute.\n",
    "\n",
    "<p style=\"color:red\">Did you really mean to say properties look like classes? If so, in what way?</p>"
   ]
  },
  {
   "cell_type": "code",
   "execution_count": null,
   "metadata": {},
   "outputs": [],
   "source": [
    "class Event:\n",
    "    SOURCE = (\"All data is sourced from COMCAT\\n\"\n",
    "             \"Equivalent information can be found at: \"\n",
    "              \"https://earthquake.usgs.gov/earthquakes/search/\")\n",
    "    \n",
    "    def __init__(self, event_string):\n",
    "        self.eventid = event_string\n",
    "        self.get_event()\n",
    "        \n",
    "        \n",
    "    def __str__(self):\n",
    "        return f\"Event for {self.eventid}\"\n",
    "    \n",
    "    def get_event(self):\n",
    "        \"\"\"Get's the event from libcomcat.\"\"\"\n",
    "        self._libcomcat_event = get_event_by_id(self.eventid)\n",
    "        \n",
    "    def list_origin_sources(self):\n",
    "        \"\"\"Lists sources contributing origins.\n",
    "        \n",
    "        Returns:\n",
    "            list: List of origin sources.\n",
    "        \"\"\"\n",
    "        origins =  self._libcomcat_event.getProducts('origin',\n",
    "                                                 source='all', version='all')\n",
    "        sources = [o.source for o in origins]\n",
    "        return sources\n",
    "    \n",
    "    @property\n",
    "    def latitude(self):\n",
    "        return self._libcomcat_event.latitude\n",
    "    \n",
    "    @property\n",
    "    def longitude(self):\n",
    "        return self._libcomcat_event.longitude\n",
    "    \n",
    "    @property\n",
    "    def magnitude(self):\n",
    "        return self._libcomcat_event.magnitude\n",
    "        "
   ]
  },
  {
   "cell_type": "code",
   "execution_count": null,
   "metadata": {},
   "outputs": [],
   "source": [
    "event = Event('us70008jr5')"
   ]
  },
  {
   "cell_type": "code",
   "execution_count": null,
   "metadata": {},
   "outputs": [],
   "source": [
    "event.latitude"
   ]
  },
  {
   "cell_type": "code",
   "execution_count": null,
   "metadata": {},
   "outputs": [],
   "source": [
    "event.longitude"
   ]
  },
  {
   "cell_type": "code",
   "execution_count": null,
   "metadata": {},
   "outputs": [],
   "source": [
    "event.magnitude"
   ]
  },
  {
   "cell_type": "markdown",
   "metadata": {},
   "source": [
    "#### 5. Static Methods\n",
    "Static methods do not receive a class instance as the first argument. To declare a static method we need to use the `@staticmethod` decorator.\n",
    "\n",
    "<p style=\"color:red\"> Maybe spend a cell somewhere above explaining what decorators are (basically, a special thing that modifies the behavior of a function. I wouldn't go into detail)</p>"
   ]
  },
  {
   "cell_type": "code",
   "execution_count": 13,
   "metadata": {},
   "outputs": [],
   "source": [
    "class Event:\n",
    "    SOURCE = (\"All data is sourced from COMCAT\\n\"\n",
    "             \"Equivalent information can be found at: \"\n",
    "              \"https://earthquake.usgs.gov/earthquakes/search/\")\n",
    "    \n",
    "    def __init__(self, event_string):\n",
    "        self.eventid = event_string\n",
    "        self.get_event()\n",
    "        \n",
    "        \n",
    "    def __str__(self):\n",
    "        return f\"Event for {self._libcomcat_event}\"\n",
    "    \n",
    "    @staticmethod\n",
    "    def get_source_name(source):\n",
    "        source = source.lower()\n",
    "        sources = {'ak': 'Alaska Earthquake Center (aka AEI, AEIC)',\n",
    "                  'us': 'USGS National Earthquake Information Center, PDE (aka GS, NEIC)',\n",
    "                  'ci': ('California Integrated Seismic Network: Southern California '\n",
    "                         'Seismic Network (Caltech, USGS Pasadena, and Partners) (aka PAS)'),\n",
    "                  'nc': ('California Integrated Seismic Network: Northern California '\n",
    "                         'Seismic System (UC Berkeley, USGS Menlo Park, and Partners)'),\n",
    "                  'mb': \"Montana Bureau of Mines and Geology\"}\n",
    "        if source not in sources:\n",
    "            print(\"Source, '{source}', not in the commmon source list. \"\n",
    "                 \"A full list of sources can be found at https://earthquake.\"\n",
    "                  \"usgs.gov/data/comcat/contributor/\")\n",
    "            return None\n",
    "        else:\n",
    "            return sources[source]\n",
    "    \n",
    "    def get_event(self):\n",
    "        \"\"\"Get's the event from libcomcat.\"\"\"\n",
    "        self._libcomcat_event = get_event_by_id(self.eventid)\n",
    "        \n",
    "    def list_origin_sources(self):\n",
    "        \"\"\"Lists sources contributing origins.\n",
    "        \n",
    "        Returns:\n",
    "            list: List of origin sources.\n",
    "        \"\"\"\n",
    "        origins =  self._libcomcat_event.getProducts('origin',\n",
    "                                                 source='all', version='all')\n",
    "        sources = [o.source for o in origins]\n",
    "        return sources\n",
    "    \n",
    "    @property\n",
    "    def latitude(self):\n",
    "        return self._libcomcat_event.latitude\n",
    "    \n",
    "    @property\n",
    "    def longitude(self):\n",
    "        return self._libcomcat_event.longitude\n",
    "    \n",
    "    @property\n",
    "    def magnitude(self):\n",
    "        return self._libcomcat_event.magnitude\n",
    "        \n",
    "    \n",
    "    \n",
    "        "
   ]
  },
  {
   "cell_type": "code",
   "execution_count": 14,
   "metadata": {},
   "outputs": [
    {
     "data": {
      "text/plain": [
       "'Event for us70008jr5 2020-03-31 23:52:30.781000 (44.465,-115.118) 12.1 km M6.5'"
      ]
     },
     "execution_count": 14,
     "metadata": {},
     "output_type": "execute_result"
    }
   ],
   "source": [
    "event = Event('us70008jr5')\n",
    "str(event)"
   ]
  },
  {
   "cell_type": "code",
   "execution_count": 15,
   "metadata": {},
   "outputs": [
    {
     "name": "stdout",
     "output_type": "stream",
     "text": [
      "Montana Bureau of Mines and Geology\n",
      "USGS National Earthquake Information Center, PDE (aka GS, NEIC)\n"
     ]
    }
   ],
   "source": [
    "sources = event.list_origin_sources()\n",
    "for source in sources:\n",
    "    print(event.get_source_name(source))"
   ]
  },
  {
   "cell_type": "markdown",
   "metadata": {},
   "source": [
    "#### 6. Class Methods\n",
    "Class methods receive that class as the implicit first method and returns an instance of the class. To declare a class method we need to use the `@classmethod` decorator.\n",
    "\n",
    "<p style=\"color:red\">Uses: alternate constructors, copy constructors, ??</p>"
   ]
  },
  {
   "cell_type": "code",
   "execution_count": null,
   "metadata": {},
   "outputs": [],
   "source": [
    "from datetime import datetime\n",
    "\n",
    "class Event:\n",
    "    SOURCE = (\"All data is sourced from COMCAT\\n\"\n",
    "             \"Equivalent information can be found at: \"\n",
    "              \"https://earthquake.usgs.gov/earthquakes/search/\")\n",
    "    \n",
    "    def __init__(self, event_string):\n",
    "        self.eventid = event_string\n",
    "        self.get_event()\n",
    "        \n",
    "        \n",
    "    def __str__(self):\n",
    "        return f\"Event for {self._libcomcat_event}\"\n",
    "    \n",
    "    @classmethod\n",
    "    def from_location_time(cls, latitude, longitude, radius, starttime, endtime, minimum_magnitude=0):\n",
    "        \"\"\"Creates an instance of Event, based upon largest event with the search radius.\n",
    "        \n",
    "        Args:\n",
    "            latitude (float): Latitude defining the center of the search radius.\n",
    "            longitude (float): Longitude defining the center of the search radius.\n",
    "            radius (float): Radius of the search in kilometers.\n",
    "            starttime (string or datetime): Date defining the start time to search. If \n",
    "                a string, it must be in the format 'YEAR-MONTH-DAY'.\n",
    "            endtime (string or datetime): Date defining the end time to search. If \n",
    "                a string, it must be in the format 'YEAR-MONTH-DAY'.\n",
    "                \n",
    "        Returns:\n",
    "            Event: Instance of the Event class.\n",
    "        \n",
    "        \"\"\"\n",
    "        \n",
    "        ## Check the types of the starttime and endtime arguments\n",
    "        if isinstance(starttime, str):\n",
    "            starttime = datetime.strptime(starttime, '%Y-%m-%d')\n",
    "        elif ~isinstance(starttime, datetime):\n",
    "            raise Exception(\"Starttime must be of type 'str' or 'datetime.datetime'.\")\n",
    "            \n",
    "        if isinstance(endtime, str):\n",
    "            endtime = datetime.strptime(endtime, '%Y-%m-%d')\n",
    "        elif ~isinstance(endtime, datetime):\n",
    "            raise Exception(\"Endtime must be of type 'str' or 'datetime.datetime'.\")\n",
    "            \n",
    "        \n",
    "        search_event = libcomcat.search.search(starttime=starttime, endtime=endtime,\n",
    "                        latitude=latitude, longitude=longitude, \n",
    "                        minmagnitude=minimum_magnitude, \n",
    "                        maxradiuskm = radius, orderby='magnitude')[0]\n",
    "        eventid = search_event.id\n",
    "        \n",
    "        class_instance = cls(eventid)\n",
    "        return class_instance\n",
    "        \n",
    "        \n",
    "    \n",
    "    @staticmethod\n",
    "    def get_source_name(source):\n",
    "        \"\"\"\n",
    "        Get the name associated with a source abbrieviation.\n",
    "        \n",
    "        Returns:\n",
    "            string: Long form of the source name.\n",
    "        \"\"\"\n",
    "        source = source.lower()\n",
    "        sources = {'ak': 'Alaska Earthquake Center (aka AEI, AEIC)',\n",
    "                  'us': 'USGS National Earthquake Information Center, PDE (aka GS, NEIC)',\n",
    "                  'ci': ('California Integrated Seismic Network: Southern California '\n",
    "                         'Seismic Network (Caltech, USGS Pasadena, and Partners) (aka PAS)'),\n",
    "                  'nc': ('California Integrated Seismic Network: Northern California '\n",
    "                         'Seismic System (UC Berkeley, USGS Menlo Park, and Partners)'),\n",
    "                  'mb': \"Montana Bureau of Mines and Geology\"}\n",
    "        if source not in sources:\n",
    "            print(\"Source, '{source}', not in the commmon source list. \"\n",
    "                 \"A full list of sources can be found at https://earthquake.\"\n",
    "                  \"usgs.gov/data/comcat/contributor/\")\n",
    "            return None\n",
    "        else:\n",
    "            return sources[source]\n",
    "    \n",
    "    def get_event(self):\n",
    "        \"\"\"Get's the event from libcomcat.\"\"\"\n",
    "        self._libcomcat_event = get_event_by_id(self.eventid)\n",
    "        \n",
    "    def list_origin_sources(self):\n",
    "        \"\"\"Lists sources contributing origins.\n",
    "        \n",
    "        Returns:\n",
    "            list: List of origin sources.\n",
    "        \"\"\"\n",
    "        origins =  self._libcomcat_event.getProducts('origin',\n",
    "                                                 source='all', version='all')\n",
    "        sources = [o.source for o in origins]\n",
    "        return sources\n",
    "    \n",
    "    @property\n",
    "    def latitude(self):\n",
    "        return self._libcomcat_event.latitude\n",
    "    \n",
    "    @property\n",
    "    def longitude(self):\n",
    "        return self._libcomcat_event.longitude\n",
    "    \n",
    "    @property\n",
    "    def magnitude(self):\n",
    "        return self._libcomcat_event.magnitude\n",
    "        "
   ]
  },
  {
   "cell_type": "code",
   "execution_count": null,
   "metadata": {},
   "outputs": [],
   "source": [
    "\n",
    "event = Event.from_location_time(44.465, -115.118, 10, '2020-03-30', '2020-04-01', minimum_magnitude=6)"
   ]
  },
  {
   "cell_type": "code",
   "execution_count": null,
   "metadata": {},
   "outputs": [],
   "source": [
    "str(event)"
   ]
  },
  {
   "cell_type": "markdown",
   "metadata": {},
   "source": [
    "### Inheritance\n",
    "Since inheritance can get complicated very quickly, we will use a simpler example. Here we will make a parent class called `EventData` that is the base class for storing data about an event.\n",
    "\n",
    "<p style=\"color:red\">What is inheritance? This is the first time you've introduced it. Also, why should we care about it.  Maybe even a section each on encapsulation, abstraction, inheritance, and polymorphism?</p>"
   ]
  },
  {
   "cell_type": "code",
   "execution_count": null,
   "metadata": {},
   "outputs": [],
   "source": [
    "class EventData:\n",
    "    def __init__(self, eventid=None, time=None, latitude=None, longitude=None,\n",
    "                 depth=None, magnitude=None):\n",
    "        self._eventid = eventid\n",
    "        self._time = time\n",
    "        self._latitude = latitude\n",
    "        self._longitude = longitude\n",
    "        self._depth = depth\n",
    "        self._magnitude = magnitude\n",
    "        \n",
    "    def __str__(self):\n",
    "        return f\"Data associated with {self._eventid}\"\n",
    "        \n",
    "    @property\n",
    "    def eventid(self):\n",
    "        return self._eventid \n",
    "    \n",
    "    @property\n",
    "    def time(self):\n",
    "        return self._time\n",
    "    \n",
    "    @property\n",
    "    def latitude(self):\n",
    "        return  self._latitude\n",
    "    \n",
    "    \n",
    "    @property\n",
    "    def longitude(self):\n",
    "        return self._longitude\n",
    "    \n",
    "    \n",
    "    @property\n",
    "    def depth(self):\n",
    "        return self._depth\n",
    "    \n",
    "    @property\n",
    "    def magnitude(self):\n",
    "        return self._magnitude\n",
    "    "
   ]
  },
  {
   "cell_type": "code",
   "execution_count": null,
   "metadata": {},
   "outputs": [],
   "source": [
    "time = datetime(2010, 2, 27, 6, 35, 14)\n",
    "eventdata = EventData(eventid='GCMT:C201002270634A', time=time,  latitude=-35.980,\n",
    "                      longitude=-73.150, depth=23.2, magnitude=8.8)"
   ]
  },
  {
   "cell_type": "code",
   "execution_count": null,
   "metadata": {},
   "outputs": [],
   "source": [
    "eventdata.magnitude"
   ]
  },
  {
   "cell_type": "code",
   "execution_count": null,
   "metadata": {},
   "outputs": [],
   "source": [
    "eventdata.time"
   ]
  },
  {
   "cell_type": "markdown",
   "metadata": {},
   "source": [
    "Now we can create a child class called `SummaryData` that inherits from `EventData` and creates the summary property."
   ]
  },
  {
   "cell_type": "code",
   "execution_count": null,
   "metadata": {},
   "outputs": [],
   "source": [
    "class SummaryData(EventData):\n",
    "    def __init__(self, eventid=None, time=None, latitude=None, longitude=None,\n",
    "                 depth=None, magnitude=None):\n",
    "        super().__init__(eventid=None, time=None, latitude=None, longitude=None,\n",
    "                 depth=None, magnitude=None)\n",
    "    \n",
    "    @property\n",
    "    def summary(self):\n",
    "        return (f\"Event for {self.eventid}: time={self.time}, \"\n",
    "               f\"latitude={self.latitude}, \"\n",
    "               f\"longitude={self.longitude}, \"\n",
    "               f\"depth={self.depth}, \"\n",
    "               f\"magnitude={self.magnitude} \")"
   ]
  },
  {
   "cell_type": "code",
   "execution_count": null,
   "metadata": {},
   "outputs": [],
   "source": [
    "summary = SummaryData(eventid='GCMT:C201002270634A', time=time,  latitude=-35.980,\n",
    "                      longitude=-73.150, depth=23.2, magnitude=8.8)\n",
    "summary.summary"
   ]
  },
  {
   "cell_type": "markdown",
   "metadata": {},
   "source": [
    "We still have access to the methods in the parent class:"
   ]
  },
  {
   "cell_type": "code",
   "execution_count": null,
   "metadata": {},
   "outputs": [],
   "source": [
    "str(summary)"
   ]
  },
  {
   "cell_type": "code",
   "execution_count": null,
   "metadata": {},
   "outputs": [],
   "source": [
    "summary.eventid"
   ]
  },
  {
   "cell_type": "markdown",
   "metadata": {},
   "source": [
    "Suppose that we want there to be required positional arguments for a child class. Here we can make a child class called `WaveformData` that requires the user to give waveforms. We can override the parent __init__ to do this."
   ]
  },
  {
   "cell_type": "code",
   "execution_count": 6,
   "metadata": {},
   "outputs": [],
   "source": [
    "## Create our synthetic waveform\n",
    "from obspy.clients.syngine import Client\n",
    "client = Client()\n",
    "\n",
    "## Note this is a random waveform, not one associated with the event\n",
    "st1 = client.get_waveforms(model=\"ak135f_5s\", network=\"IU\", station=\"ANMO\",\n",
    "                          eventid=\"GCMT:C201002270634A\", units='displacement')\n",
    "st2 = client.get_waveforms(model=\"ak135f_5s\", network=\"IU\", station=\"B*\",\n",
    "                          eventid=\"GCMT:C201002270634A\", units='displacement')"
   ]
  },
  {
   "cell_type": "code",
   "execution_count": 5,
   "metadata": {},
   "outputs": [
    {
     "data": {
      "text/plain": [
       "         network: IU\n",
       "         station: ANMO\n",
       "        location: SE\n",
       "         channel: MXZ\n",
       "       starttime: 2010-02-27T06:35:14.000000Z\n",
       "         endtime: 2010-02-27T07:39:53.750000Z\n",
       "   sampling_rate: 4.0\n",
       "           delta: 0.25\n",
       "            npts: 15520\n",
       "           calib: 1.0\n",
       "         _format: MSEED\n",
       "           mseed: AttribDict({'dataquality': 'D', 'number_of_records': 16, 'encoding': 'FLOAT32', 'byteorder': '>', 'record_length': 4096, 'filesize': 196608})"
      ]
     },
     "execution_count": 5,
     "metadata": {},
     "output_type": "execute_result"
    }
   ],
   "source": [
    "st1[0].stats"
   ]
  },
  {
   "cell_type": "code",
   "execution_count": null,
   "metadata": {},
   "outputs": [],
   "source": [
    "class WaveformData(EventData):\n",
    "    def __init__(self, waveforms, eventid=None, time=None, latitude=None, longitude=None,\n",
    "                 depth=None, magnitude=None):\n",
    "        super().__init__(eventid=None, time=None, latitude=None, longitude=None,\n",
    "                 depth=None, magnitude=None)\n",
    "        self._waveforms = waveforms\n",
    "        \n",
    "    @property\n",
    "    def waveforms(self):\n",
    "        return self._waveforms\n",
    "        \n",
    "    def plot_waveforms(self):\n",
    "        for waveform in self._waveforms:\n",
    "            waveform.plot()\n",
    "        \n",
    "    "
   ]
  },
  {
   "cell_type": "code",
   "execution_count": null,
   "metadata": {},
   "outputs": [],
   "source": [
    "waveform_data = WaveformData([st1, st2], eventid='GCMT:C201002270634A', time=time,  latitude=-35.980,\n",
    "                      longitude=-73.150, depth=23.2, magnitude=8.8)"
   ]
  },
  {
   "cell_type": "code",
   "execution_count": null,
   "metadata": {},
   "outputs": [],
   "source": [
    "waveform_data.plot_waveforms()"
   ]
  },
  {
   "cell_type": "markdown",
   "metadata": {},
   "source": [
    "### References\n",
    "- https://medium.com/@daetam/class-structure-in-python-297792428ef0\n",
    "- https://www.programiz.com/python-programming/object-oriented-programming\n",
    "- https://realpython.com/python3-object-oriented-programming/#define-a-class-in-python"
   ]
  }
 ],
 "metadata": {
  "kernelspec": {
   "display_name": "Python 3",
   "language": "python",
   "name": "python3"
  },
  "language_info": {
   "codemirror_mode": {
    "name": "ipython",
    "version": 3
   },
   "file_extension": ".py",
   "mimetype": "text/x-python",
   "name": "python",
   "nbconvert_exporter": "python",
   "pygments_lexer": "ipython3",
   "version": "3.8.5"
  }
 },
 "nbformat": 4,
 "nbformat_minor": 4
}
