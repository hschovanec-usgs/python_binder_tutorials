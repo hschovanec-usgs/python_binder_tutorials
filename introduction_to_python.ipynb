{
 "cells": [
  {
   "cell_type": "markdown",
   "metadata": {},
   "source": [
    "## Introduction to Python\n",
    "In this notebook we will introduce Python and cover the following topics:\n",
    "\n",
    "- [Basics](#Basics)\n",
    "    - [Key Differences with Other Languages](#Key-Differences-with-Other-Languages)\n",
    "    - [Variable Assignment](#Variable-Assignment)\n",
    "    - [Printing and String Formatting](#Printing-and-String-Formatting)\n",
    "    - [Variables, Objects in Memory, and References](#Variables,-Objects-in-Memory,-and-References)\n",
    "    - [Importing Packages](#Importing-Packages)\n",
    "- [Lists](#Lists)\n",
    "    - [Creating a List](#Creating-a-List)\n",
    "    - [Indexing and Slicing](#Indexing-and-Slicing)\n",
    "    - [Looping](#Looping)\n",
    "- [Functions](#Functions)\n",
    "- [Helpful Tutorials](#Helpful-Tutorials)"
   ]
  },
  {
   "cell_type": "markdown",
   "metadata": {},
   "source": [
    "## Basics\n",
    "### Key Differences with Other Languages\n",
    "Python differs from other languages in a number of ways:\n",
    "\n",
    "|  | C++ | MatLab | Python |\n",
    "| --- | --- | --- | --- |\n",
    "| Variables | Statically Typed | Dynamically typed | Dynamically typed  |\n",
    "| Scope | Variables inaccessible outside of loops | Variables accessible outside of loops | Variables accessible outside of loops |\n",
    "| Functions | Argument and Return Type Restricted | No Type Restriction | No Type Restriction|\n",
    "| Software Access | Libraries | Toolkits | Packages |\n",
    "\n",
    "\n"
   ]
  },
  {
   "cell_type": "markdown",
   "metadata": {},
   "source": [
    "### Variable Assignment\n",
    "Python dynamically assigns the types for variables. Below we assign four different standard datatypes:\n",
    "1. integer\n",
    "2. float\n",
    "2. string\n",
    "3. list : Unlike C++ lists can hold multiple datatypes and the size does not need to be static. List items are separated by a comma.\n",
    "4. dictionary : Similar to a map in C++ or MatLab. Multiple datatypes are allowed in the dictionary\n",
    "\n",
    "Click on the cell below and press Shift+Enter. The cell will run and no error should appear."
   ]
  },
  {
   "cell_type": "code",
   "execution_count": null,
   "metadata": {},
   "outputs": [],
   "source": [
    "## Integer\n",
    "int_variable = 3\n",
    "## Float\n",
    "float_variable = 4.1\n",
    "## String\n",
    "str_variable = \"Hello World\"\n",
    "## List\n",
    "list_variable = [int_variable, float_variable, str_variable, \"Extra item!\"]\n",
    "## Dictionary\n",
    "dict_variable = {\n",
    "    \"int\": int_variable,\n",
    "    \"float\": float_variable,\n",
    "    \"string\": str_variable,\n",
    "    \"list\": list_variable\n",
    "}"
   ]
  },
  {
   "cell_type": "markdown",
   "metadata": {},
   "source": [
    "### Printing and String Formatting\n",
    "No we will check the variables that were created above. To do so we will use the `type()` and `print()` functions. \n",
    "\n",
    "We can simply print each variable using print(type(VARIABLE))...."
   ]
  },
  {
   "cell_type": "code",
   "execution_count": null,
   "metadata": {},
   "outputs": [],
   "source": [
    "print(type(int_variable))"
   ]
  },
  {
   "cell_type": "markdown",
   "metadata": {},
   "source": [
    "...We can add more information to the print using commas separated arguments..."
   ]
  },
  {
   "cell_type": "code",
   "execution_count": null,
   "metadata": {},
   "outputs": [],
   "source": [
    "print(\"Here I print the type: \", type(int_variable))"
   ]
  },
  {
   "cell_type": "markdown",
   "metadata": {},
   "source": [
    "...or we can use string formatting. The f-string formatting in the format `f\"\"` allows us to print out text and variables:"
   ]
  },
  {
   "cell_type": "code",
   "execution_count": null,
   "metadata": {},
   "outputs": [],
   "source": [
    "formatted_string1 = f\"Printing out the float: {float_variable}\"\n",
    "formatted_string2 = f\"Printing out the float with 2 decimal places: {float_variable:.2f}\"\n",
    "print(formatted_string1)\n",
    "print(formatted_string2)"
   ]
  },
  {
   "cell_type": "markdown",
   "metadata": {},
   "source": [
    "Try using the variables, the print() function, the type() function, and string formatting to get this output:\n",
    "`3 is a <class 'int'>, and 4.1 is a <class 'float'>!`\n",
    "<details>\n",
    "  <summary>SEE SOLUTION</summary>\n",
    "    \n",
    "  `solution_string = f\"{int_variable} is a {type(int_variable)}, and {float_variable} is a {type(float_variable)}!\"`\n",
    "    \n",
    "  `print(solution_string)`\n",
    "  \n",
    "</details>"
   ]
  },
  {
   "cell_type": "code",
   "execution_count": null,
   "metadata": {},
   "outputs": [],
   "source": [
    "## Your code here\n"
   ]
  },
  {
   "cell_type": "markdown",
   "metadata": {},
   "source": [
    "### Variables, Objects in Memory, and References\n",
    "In Python when a value is assigned, an object and a reference to it is created. When we created the variable `int_variable` above, the number *3* was created in memory and `int_variable` now points to it. In order to save memory, the same value is assigned to a value already in memory, a new reference is created, but not a new object in memory. This is true for all strings that are less than 20 characters, without whitespace and for integers between -5 and 255. For example, if we write the code\n",
    "\n",
    "`a = 1`\n",
    "\n",
    "`b = 1`\n",
    "\n",
    "The variable references are structured as follows:\n",
    "<img class=\"fit-picture\"\n",
    "     src=\"https://process.filestackapi.com/cache=expiry:max/nEwoaMoGRT6wjfa7bbpq\"\n",
    "     alt=\"Reference image from: https://process.filestackapi.com/cache=expiry:max/nEwoaMoGRT6wjfa7bbpq\">\n",
    "     \n",
    "Lets now try this with the `int_variable`. If you haven't already, run the cell with `int_variable = 3`. Then run the \n",
    "cell below which assigns a new reference to *3* and checks the ids."
   ]
  },
  {
   "cell_type": "code",
   "execution_count": null,
   "metadata": {},
   "outputs": [],
   "source": [
    "new_reference = 3\n",
    "\n",
    "## Here we check the ids\n",
    "int_var_id = id(int_variable)\n",
    "new_ref_id = id(new_reference)\n",
    "\n",
    "id_str = (f\"The id for 'int_variable' is {int_var_id}\\n\"\n",
    "            f\"The id for 'new_reference' is {new_ref_id}\")\n",
    "             \n",
    "\n",
    "print(id_str)"
   ]
  },
  {
   "cell_type": "markdown",
   "metadata": {},
   "source": [
    "If we assign a new variable using an existing reference, they will reference the same object as well. The new variable is now an 'alias' for the preixisting variable.\n"
   ]
  },
  {
   "cell_type": "code",
   "execution_count": null,
   "metadata": {},
   "outputs": [],
   "source": [
    "orig = \"Hello\"\n",
    "new = orig\n",
    "\n",
    "id_str = (f\"The id for 'orig' is {id(orig)}\\n\"\n",
    "            f\"The id for 'new' is {id(new)}\")\n",
    "             \n",
    "\n",
    "print(id_str)"
   ]
  },
  {
   "cell_type": "markdown",
   "metadata": {},
   "source": [
    "However, if you change the secondary variable"
   ]
  },
  {
   "cell_type": "code",
   "execution_count": null,
   "metadata": {},
   "outputs": [],
   "source": [
    "new += \" World\"\n",
    "print(orig)"
   ]
  },
  {
   "cell_type": "markdown",
   "metadata": {},
   "source": [
    "As is, if we change `new`, `orig` will not change. This is because s trings are immutable objects:\n",
    "\n",
    "- Immutable object: an object that *cannot* be changed after it is created. Immutible objects include:\n",
    "    - bool\n",
    "    - int\n",
    "    - float\n",
    "    - tupple\n",
    "    - str\n",
    "    - frozenset\n",
    "- Mutable objects: an object that *can* be changed after it is created. Immutible objects include:\n",
    "    - list\n",
    "    - set\n",
    "    - dict\n",
    "    \n",
    "Let's examine what happens if we append to the `new` string. The id of `new` will change."
   ]
  },
  {
   "cell_type": "code",
   "execution_count": null,
   "metadata": {},
   "outputs": [],
   "source": [
    "new += \" World\"\n",
    "\n",
    "print((f\"Orig: {orig}, Orig id: {id(orig)}\\n\"\n",
    "    f\"New: {new}, New id: {id(new)}\"))"
   ]
  },
  {
   "cell_type": "markdown",
   "metadata": {},
   "source": [
    "Now let's examine how lists are effected by this type of assignment\n",
    "\n",
    "Create a list named `orig_list` with the contents 1, 3, 6, 7, 10.\n",
    "Then create another list called `new_list` and assign `orig_list` to it.\n",
    "Finally, print out the ids of both lists.\n",
    "<details>\n",
    "  <summary>SEE SOLUTION</summary>\n",
    "    \n",
    "```orig_list = [1, 3, 6, 7, 10]\n",
    "new_list = orig_list\n",
    "print(f\"Orig id: {id(orig_list)}\\nNew id: {id(new_list)}\")```\n",
    "</details>"
   ]
  },
  {
   "cell_type": "code",
   "execution_count": null,
   "metadata": {},
   "outputs": [],
   "source": [
    "## Your code here\n"
   ]
  },
  {
   "cell_type": "markdown",
   "metadata": {},
   "source": [
    "If we change an element of `new_list` it *will* change `orig_list`, since list objects are mutable."
   ]
  },
  {
   "cell_type": "code",
   "execution_count": null,
   "metadata": {},
   "outputs": [],
   "source": [
    "## Changing the 1st element of new_list\n",
    "## Note indexing in python starts at 0\n",
    "new_list[0] = 99\n",
    "\n",
    "print((f\"Orig: {orig_list}, Orig id: {id(orig_list)}\\n\"\n",
    "    f\"New: {new_list}, New id: {id(new_list)}\"))"
   ]
  },
  {
   "cell_type": "markdown",
   "metadata": {},
   "source": [
    "We can prevent this by passing a copy of the original reference, rather than passing the reference itself. There are different ways to create a copy. For list, a copy is created if you access all elements of the list using `:`."
   ]
  },
  {
   "cell_type": "code",
   "execution_count": null,
   "metadata": {},
   "outputs": [],
   "source": [
    "final_list = orig_list[:]\n",
    "\n",
    "print(f\"Orig id: {id(orig_list)}\\nFinal id: {id(final_list)}\")"
   ]
  },
  {
   "cell_type": "markdown",
   "metadata": {},
   "source": [
    "Notice that the ids are different. Now change an element of the `final_list`, and see how it effects `orig_list`. \n",
    "\n",
    "<details>\n",
    "  <summary>SEE EXAMPLE</summary>\n",
    "    \n",
    "```final_list[0] = 1010\n",
    "print((f\"Orig: {orig_list}, Orig id: {id(orig_list)}\\nNew: {final_list}, New id: {id(final_list)}\"))```\n",
    "</details>\n"
   ]
  },
  {
   "cell_type": "code",
   "execution_count": null,
   "metadata": {},
   "outputs": [],
   "source": [
    "## Your code here\n"
   ]
  },
  {
   "cell_type": "markdown",
   "metadata": {},
   "source": [
    "### Importing Packages\n",
    "Another way to make a copy of an object is using `copy()`. However, to use this we need to import the library. This is a standard library  that comes with most buids of python, so we don't need to worry about installing anything.\n",
    "\n",
    "There are a number of ways to import `copy()`. Let's look at a couple:\n",
    "#### 1. import copy\n",
    "\n",
    "This imports the copy library. This means that we have access to all of the top level functions and classes if we prepend `copy.` to the function."
   ]
  },
  {
   "cell_type": "code",
   "execution_count": null,
   "metadata": {},
   "outputs": [],
   "source": [
    "import copy\n",
    "\n",
    "library_copy = copy.copy(orig_list)\n",
    "print(f\"Orig id: {id(orig_list)}, Library Copy id: {id(library_copy)}\")\n",
    "\n",
    "## I also have access to other function\n",
    "deep_copy = copy.deepcopy(orig_list)\n",
    "print(f\"Orig id: {id(orig_list)}, Deep Copy id: {id(deep_copy)}\")"
   ]
  },
  {
   "cell_type": "markdown",
   "metadata": {},
   "source": [
    "#### 3. import copy as cp\n",
    "\n",
    "This is the exact same as the above example, except now I have an alias for the copy library, and I do not have to type as much."
   ]
  },
  {
   "cell_type": "code",
   "execution_count": null,
   "metadata": {},
   "outputs": [],
   "source": [
    "import copy as cp\n",
    "\n",
    "cp_copy = cp.copy(orig_list)\n",
    "print(f\"Orig id: {id(orig_list)}, CP Copy id: {id(cp_copy)}\")\n",
    "\n",
    "## I also have access to other functions\n",
    "cp_deep_copy = cp.deepcopy(orig_list)\n",
    "print(f\"Orig id: {id(orig_list)}, CP Deep Copy id: {id(cp_deep_copy)}\")"
   ]
  },
  {
   "cell_type": "markdown",
   "metadata": {},
   "source": [
    "#### 3. from copy import copy\n",
    "\n",
    "This only imports `copy()`. This import style is handy if you know that you will only need one function from the library. Notice, if I try to use another function in the library, it cannot be found"
   ]
  },
  {
   "cell_type": "code",
   "execution_count": null,
   "metadata": {},
   "outputs": [],
   "source": [
    "from copy import copy\n",
    "\n",
    "library_copy = copy(orig_list)\n",
    "print(f\"Orig id: {id(orig_list)}, Library Copy id: {id(library_copy)}\")"
   ]
  },
  {
   "cell_type": "code",
   "execution_count": null,
   "metadata": {},
   "outputs": [],
   "source": [
    "## I DO NO have access to other functions\n",
    "deep_copy = deepcopy(orig_list)\n",
    "print(f\"Orig id: {id(orig_list)}, Deep Copy id: {id(deep_copy)}\")"
   ]
  },
  {
   "cell_type": "markdown",
   "metadata": {},
   "source": [
    "#### 4. from copy import *\n",
    "\n",
    "This imports every function that exists in the copy library. **DO NOT DO THIS!** Importing this way can cause problems when you are using two libraries with the same function. This is more common than you might think. \n",
    "\n",
    "For example, say that library *A* has a function called `read_csv()`, and library *B* also has a function called `read_csv()`. If I import both functions as \n",
    "```\n",
    "from A import *\n",
    "from B import *\n",
    "```\n",
    "and then call\n",
    "```\n",
    "read_csv(my_file_path)\n",
    "```\n",
    "which `read_csv()` function is being used?"
   ]
  },
  {
   "cell_type": "markdown",
   "metadata": {},
   "source": [
    "## Lists\n",
    "We have already looked at lists and discussed their mutability. Here we will dig deeper into how lists can be created and used.\n",
    "\n",
    "### Creating a List\n",
    "There are many ways to create a list. Here we will make a list on ones [1, 1, 1] three different ways.\n",
    "\n",
    "#### 1. Direct assignment"
   ]
  },
  {
   "cell_type": "code",
   "execution_count": null,
   "metadata": {},
   "outputs": [],
   "source": [
    "direct = [1, 1, 1]"
   ]
  },
  {
   "cell_type": "markdown",
   "metadata": {},
   "source": [
    "#### 2. Fast assignment"
   ]
  },
  {
   "cell_type": "code",
   "execution_count": null,
   "metadata": {},
   "outputs": [],
   "source": [
    "fast = [1] * 3"
   ]
  },
  {
   "cell_type": "markdown",
   "metadata": {},
   "source": [
    "#### 2. Looping assignment\n",
    "_We will discuss how looping works later_"
   ]
  },
  {
   "cell_type": "code",
   "execution_count": null,
   "metadata": {},
   "outputs": [],
   "source": [
    "loop = []\n",
    "for i in range(3):\n",
    "    loop += [1]"
   ]
  },
  {
   "cell_type": "markdown",
   "metadata": {},
   "source": [
    "Now examine the results.\n",
    "\n",
    "<details>\n",
    "  <summary>SEE SOLUTION</summary>\n",
    "    \n",
    "```\n",
    "print((f\"direct: {direct}\\n\"\n",
    "f\"fast: {fast}\\n\"\n",
    "f\"loop: {loop}\\n\"))\n",
    "```\n",
    "</details>"
   ]
  },
  {
   "cell_type": "code",
   "execution_count": null,
   "metadata": {},
   "outputs": [],
   "source": []
  },
  {
   "cell_type": "code",
   "execution_count": null,
   "metadata": {},
   "outputs": [],
   "source": [
    "## Your code here\n"
   ]
  },
  {
   "cell_type": "markdown",
   "metadata": {},
   "source": [
    "### Indexing and Slicing\n",
    "You can get element(s) of a list or string (recognized as a list of characters) using indexing and slicing. Indexing is used to call a single element by it's location. **Indexing in python begins at 0.** Below, we get the first, third, and ninth element of the list and string."
   ]
  },
  {
   "cell_type": "code",
   "execution_count": null,
   "metadata": {},
   "outputs": [],
   "source": [
    "message = \"Isn't python cool\"\n",
    "list_message = ['I', 's', 'n', \"'\",\n",
    "                't', ' ', 'p', 'y', 't',\n",
    "                'h', 'o', 'n', ' ',\n",
    "                'c', 'o', 'o', 'l']\n",
    "\n",
    "print('first: ', message[0], list_message[0])\n",
    "print('third: ', message[2], list_message[2])\n",
    "print('ninth: ', message[8], list_message[8])"
   ]
  },
  {
   "cell_type": "markdown",
   "metadata": {},
   "source": [
    "We can check the length of our list (or string) using the `len()` command. "
   ]
  },
  {
   "cell_type": "code",
   "execution_count": null,
   "metadata": {},
   "outputs": [],
   "source": [
    "print('Length: ', len(message), len(list_message))"
   ]
  },
  {
   "cell_type": "markdown",
   "metadata": {},
   "source": [
    "What happens if we try to access the list with an index that doesn't exist? Try using an index greater than the length of the list or string.\n",
    "<details>\n",
    "  <summary>SEE SOLUTION</summary>\n",
    "    \n",
    "```\n",
    "print(message[29])\n",
    "```\n",
    "</details>"
   ]
  },
  {
   "cell_type": "code",
   "execution_count": null,
   "metadata": {},
   "outputs": [],
   "source": [
    "## Your code here\n"
   ]
  },
  {
   "cell_type": "markdown",
   "metadata": {},
   "source": [
    "Slicing can be helpful for getting a range of values from a list.\n",
    "1. Dynamically getting the last element\n",
    "2. Getting the first five values\n",
    "3. Getting from the third to the ninth values\n",
    "4. Getting every other value\n",
    "5. Geting every third element starting with the second value\n",
    "6. getting the vallues in reverse"
   ]
  },
  {
   "cell_type": "code",
   "execution_count": null,
   "metadata": {},
   "outputs": [],
   "source": [
    "## 1\n",
    "one_message = message[-1]\n",
    "one_list = list_message[-1]\n",
    "print('1:', one_message, one_list)\n",
    "\n",
    "## 2\n",
    "two_message = message[0:5]\n",
    "two_list = list_message[0:5]\n",
    "print('2:', two_message, two_list)\n",
    "\n",
    "## 3\n",
    "three_message = message[2:10]\n",
    "three_list = list_message[2:10]\n",
    "print('3:', three_message, three_list)\n",
    "\n",
    "## 4\n",
    "four_message = message[::2]\n",
    "four_list = list_message[::2]\n",
    "print('4:', four_message, four_list)\n",
    "\n",
    "## 5\n",
    "five_message = message[1::3]\n",
    "five_list = list_message[1::3]\n",
    "print('5:', five_message, five_list)\n",
    "\n",
    "## 6\n",
    "six_message = message[::-1]\n",
    "six_list = list_message[::-1]\n",
    "print('6:', six_message, six_list)"
   ]
  },
  {
   "cell_type": "markdown",
   "metadata": {},
   "source": [
    "### Looping\n",
    "Looping in python is incredibly usefull. There are lots of different ways to loop through a list or string, but the structure of the loop is always as follows\n",
    "\n",
    "\n",
    "``for `` [item] `` in`` [Item(s) iterated through]``:``\n",
    "\n",
    "Let's look at some examples."
   ]
  },
  {
   "cell_type": "code",
   "execution_count": null,
   "metadata": {},
   "outputs": [],
   "source": [
    "sample_list = [2]*4 + [1]*2 + [10]*3\n",
    "print(sample_list)"
   ]
  },
  {
   "cell_type": "markdown",
   "metadata": {},
   "source": [
    "#### 1. Looping by index\n",
    "Suppose that we want to print every value of our list using the index to access each value. Using the for loop structure above, the *item* is the index and the *Item(s) iterated through* is a list of the indices. We can hardcode the list of indices or use the `range()` function which will automatically make a list of values between 0 and the number passed."
   ]
  },
  {
   "cell_type": "code",
   "execution_count": null,
   "metadata": {},
   "outputs": [],
   "source": [
    "for i in range(len(sample_list)):\n",
    "    print('Index: ', i, ' Item: ', sample_list[i])"
   ]
  },
  {
   "cell_type": "markdown",
   "metadata": {},
   "source": [
    "#### 2. Looping by value\n",
    "If we want to print each value of the list *without* indexing, then the *item* is the value and the *Item(s) iterated through* is the list. "
   ]
  },
  {
   "cell_type": "code",
   "execution_count": null,
   "metadata": {},
   "outputs": [],
   "source": [
    "for value in sample_list:\n",
    "    print('Item: ', value)"
   ]
  },
  {
   "cell_type": "markdown",
   "metadata": {},
   "source": [
    "#### 3. Looping by value and index\n",
    "If we want to print each value and index of the list *without* indexing, then the *item* is the index and value and the *Item(s) iterated through* is the list, but we must use the `enumerate()` function."
   ]
  },
  {
   "cell_type": "code",
   "execution_count": null,
   "metadata": {},
   "outputs": [],
   "source": [
    "for i, value in enumerate(sample_list):\n",
    "    print('Index: ', i, ' Item: ', value)"
   ]
  },
  {
   "cell_type": "markdown",
   "metadata": {},
   "source": [
    "#### 4. Looping through two lists\n",
    "Perhaps we have two lists that we want to examine simultaneously. As long as they have the same length, we can use `zip()` to loop through them both at on"
   ]
  },
  {
   "cell_type": "code",
   "execution_count": null,
   "metadata": {},
   "outputs": [],
   "source": [
    "list1 = ['a', 'c', 'e']\n",
    "list2 = ['b', 'd', 'f']\n",
    "\n",
    "for value1, value2 in zip(list1, list2):\n",
    "    print(value1, value2)"
   ]
  },
  {
   "cell_type": "markdown",
   "metadata": {},
   "source": [
    "## Functions\n",
    "In python you will hear about *methods* and *functions*. So what is the difference? A *function* is a block of code that performs a task. It has it's own scope. A *method* is the same as a function except that it is associated with an object or classes. Normally the first argument passed to a method is the class opbject.\n",
    "\n",
    "The structure of both a method or function is as follows:\n",
    "\n",
    "```def [Name of function]([Argument(s)]):\n",
    "    [CODE]\n",
    "    return [Returned Value] ```\n",
    "    \n",
    "The arguments and returned values are optional. Below is a function without any arguments or returned values that prints 'Hello World!'. If we examine the return, it is none."
   ]
  },
  {
   "cell_type": "code",
   "execution_count": null,
   "metadata": {},
   "outputs": [],
   "source": [
    "def say_hello():\n",
    "    print('Hello World!')"
   ]
  },
  {
   "cell_type": "code",
   "execution_count": null,
   "metadata": {},
   "outputs": [],
   "source": [
    "returned = say_hello()\n",
    "print('Returned Value: ', returned)"
   ]
  },
  {
   "cell_type": "markdown",
   "metadata": {},
   "source": [
    "Arguments can be required (positional) or optional with defaults. Below is a function that requires the argument `number` and optionally can pass `animal`. We will call the function two different ways. Here it would be benificial to use an if-else statement."
   ]
  },
  {
   "cell_type": "code",
   "execution_count": null,
   "metadata": {},
   "outputs": [],
   "source": [
    "def count_animals(number, animal='snake'):\n",
    "    if number != 1:\n",
    "        animal += 's'\n",
    "    print(f\"Counted {number} {animal}\")    "
   ]
  },
  {
   "cell_type": "code",
   "execution_count": null,
   "metadata": {},
   "outputs": [],
   "source": [
    "count_animals(1)"
   ]
  },
  {
   "cell_type": "code",
   "execution_count": null,
   "metadata": {},
   "outputs": [],
   "source": [
    "count_animals(10, 'hippo')"
   ]
  },
  {
   "cell_type": "markdown",
   "metadata": {},
   "source": [
    "Functions can be used to pass back multiple objects. Below is a function that calculates and returns the roots of a quadratic equation. We will need to take the square root. The easiest way is using numpy's `sqrt` function."
   ]
  },
  {
   "cell_type": "code",
   "execution_count": null,
   "metadata": {},
   "outputs": [],
   "source": [
    "import numpy as np\n",
    "\n",
    "def get_roots(a, b, c):\n",
    "    \"\"\"\n",
    "    Calculate roots using the quadratic formula for \n",
    "    ax2 + bx + c = 0\n",
    "    \"\"\"\n",
    "    root1 = (-1*b + np.sqrt(complex(b**2 - 4*a*c)))/(2*a)\n",
    "    root2 = (-1*b - np.sqrt(complex(b**2 - 4*a*c)))/(2*a)\n",
    "    return root1, root2\n",
    "\n",
    "print(get_roots)"
   ]
  },
  {
   "cell_type": "code",
   "execution_count": null,
   "metadata": {},
   "outputs": [],
   "source": [
    "r1, r2 = get_roots(3, 4, -5)"
   ]
  },
  {
   "cell_type": "code",
   "execution_count": null,
   "metadata": {},
   "outputs": [],
   "source": [
    "print(r1, r2)"
   ]
  },
  {
   "cell_type": "markdown",
   "metadata": {},
   "source": [
    "Previously we addressed the difference between python and C++ functions. The type of arguments and returned objects is not static in python. Right now, we could pass the wrong type of argument to get_roots. Run the cell below."
   ]
  },
  {
   "cell_type": "code",
   "execution_count": null,
   "metadata": {},
   "outputs": [],
   "source": [
    "r1, r2 = get_roots('1', 2, [300])"
   ]
  },
  {
   "cell_type": "markdown",
   "metadata": {},
   "source": [
    "However, we can use type hints and docstrings to help the user. Let's apply it to the get_roots function above."
   ]
  },
  {
   "cell_type": "code",
   "execution_count": null,
   "metadata": {},
   "outputs": [],
   "source": [
    "def get_roots(a: float, b: float, c: float) -> (float, float):\n",
    "    \"\"\"\n",
    "    Calculate roots using the quadratic formula for \n",
    "    ax2 + bx + c = 0\n",
    "    \n",
    "    Args:\n",
    "        a (float): ax2\n",
    "        b (float): bx\n",
    "        c (float): c\n",
    "    \n",
    "    Returns:\n",
    "        (float, float): The roots of the quadratic equation.\n",
    "    \"\"\"\n",
    "    root1 = (-1*b + np.sqrt(complex(b**2 - 4*a*c)))/(2*a)\n",
    "    root2 = (-1*b - np.sqrt(complex(b**2 - 4*a*c)))/(2*a)\n",
    "    return root1, root2\n",
    "\n",
    "get_roots"
   ]
  },
  {
   "cell_type": "markdown",
   "metadata": {},
   "source": [
    "In jupyter notebooks you can use a question mark to get information about the function."
   ]
  },
  {
   "cell_type": "code",
   "execution_count": null,
   "metadata": {},
   "outputs": [],
   "source": [
    "?get_roots"
   ]
  },
  {
   "cell_type": "code",
   "execution_count": null,
   "metadata": {},
   "outputs": [],
   "source": [
    "?np.sqrt"
   ]
  },
  {
   "cell_type": "markdown",
   "metadata": {},
   "source": [
    "Try writing function(s) that accepts an upper bound (int) and prints all prime numbers between 1 and that upper bound. You can write it as one large function or as one function to loop through the number and one function to check if the value is prime.\n",
    "\n",
    "<details>\n",
    "  <summary>SEE SOLUTION</summary>\n",
    "    \n",
    "```|\n",
    "def is_prime(n: int) -> bool:\n",
    "    \"\"\"\n",
    "    Check if the number, n, is prime.\n",
    "    \n",
    "    n (int)\n",
    "    \"\"\"\n",
    "    prime = True\n",
    "    if n > 1: \n",
    "        for i in range(2, n): \n",
    "            if (n % i) == 0: \n",
    "                prime = False\n",
    "                break\n",
    "    elif n == 1:\n",
    "        prime = False\n",
    "    \n",
    "    return prime\n",
    "\n",
    "    \n",
    "    \n",
    "def print_primes(upper_bound: int):\n",
    "    \"\"\"\n",
    "    Print out  primes between 1 and upper_bound.\n",
    "    \n",
    "    Args:\n",
    "        upper_bound (int): The upper bound to check.\n",
    "    \"\"\"\n",
    "    for i in range(1, upper_bound):\n",
    "        if is_prime(i):\n",
    "            print(i)\n",
    "```\n",
    "</details>"
   ]
  },
  {
   "cell_type": "code",
   "execution_count": null,
   "metadata": {},
   "outputs": [],
   "source": [
    "## Your code here\n"
   ]
  },
  {
   "cell_type": "markdown",
   "metadata": {},
   "source": [
    "## Helpful Tutorials\n",
    "- https://www.digitalocean.com/community/tutorial_series/how-to-code-in-python-3\n",
    "- https://www.w3schools.com/python/\n",
    "- https://docs.python.org/3/tutorial/"
   ]
  },
  {
   "cell_type": "markdown",
   "metadata": {},
   "source": [
    "## References\n",
    "- https://www.educba.com/python-vs-c-plus-plus/\n",
    "- https://www.codementor.io/@arch/variable-references-in-python-u9z8j2gk0\n",
    "- https://medium.com/broken-window/many-names-one-memory-address-122f78734cb6\n",
    "- https://medium.com/@meghamohan/mutable-and-immutable-side-of-python-c2145cf72747#:~:text=Simple%20put%2C%20a%20mutable%20object,set%2C%20dict)%20are%20mutable.\n",
    "https://www.journaldev.com/33542/python-type-checking#:~:text=6.-,Python%20Static%20Type%20Checking,with%20incompatible%20data%20type%20arguments.\n"
   ]
  },
  {
   "cell_type": "code",
   "execution_count": null,
   "metadata": {},
   "outputs": [],
   "source": []
  }
 ],
 "metadata": {
  "kernelspec": {
   "display_name": "Python 3",
   "language": "python",
   "name": "python3"
  },
  "language_info": {
   "codemirror_mode": {
    "name": "ipython",
    "version": 3
   },
   "file_extension": ".py",
   "mimetype": "text/x-python",
   "name": "python",
   "nbconvert_exporter": "python",
   "pygments_lexer": "ipython3",
   "version": "3.6.10"
  }
 },
 "nbformat": 4,
 "nbformat_minor": 4
}
