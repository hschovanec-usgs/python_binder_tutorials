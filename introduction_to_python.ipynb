{
 "cells": [
  {
   "cell_type": "markdown",
   "metadata": {},
   "source": [
    "## Introduction to Python\n",
    "In this notebook we will cover an introduction to Python and cover the following topics:\n",
    "\n",
    "- Basics\n",
    "    - Key Differences with Other Languages\n",
    "    - Variable assignment\n",
    "    - Printing and string formatting\n",
    "    - Assigning a reference in python\n",
    "- Lists\n",
    "- Looping\n",
    "- Functions\n",
    "- Importing packages"
   ]
  },
  {
   "cell_type": "markdown",
   "metadata": {},
   "source": [
    "## Basics\n",
    "### Key Differences with Other Languages\n",
    "Python differs from other languages in a number of ways:\n",
    "\n",
    "|  | C++ | MatLab | Python |\n",
    "| --- | --- | --- | --- |\n",
    "| Variables | Statically Typed | Dynamically typed | Dynamically typed  |\n",
    "| Scope | Variables inaccessible outside of loops | Variables accessible outside of loops | Variables accessible outside of loops |\n",
    "| Functions | Argument and Return Type Restricted | No Type Restriction | No Type Restriction|\n",
    "| Software Access | Libraries | Toolkits | Packages |\n",
    "\n",
    "\n"
   ]
  },
  {
   "cell_type": "markdown",
   "metadata": {},
   "source": [
    "### Variable assignment\n",
    "Python dynamically assigns the types for variables. Below we assign four different standard datatypes:\n",
    "1. integer\n",
    "2. float\n",
    "2. string\n",
    "3. list : Unlike C++ lists can hold multiple datatypes and the size does not need to be static. List items are separated by a comma.\n",
    "4. dictionary : Similar to a map in C++ or MatLab. Multiple datatypes are allowed in the dictionary\n",
    "\n",
    "Click on the cell below and press Shift+Enter. The cell will run and no error should appear."
   ]
  },
  {
   "cell_type": "code",
   "execution_count": null,
   "metadata": {},
   "outputs": [],
   "source": [
    "## Integer\n",
    "int_variable = 3\n",
    "## Float\n",
    "float_variable = 4.1\n",
    "## String\n",
    "str_variable = \"Hello World\"\n",
    "## List\n",
    "list_variable = [int_variable, float_variable, str_variable, \"Extra item!\"]\n",
    "## Dictionary\n",
    "dict_variable = {\n",
    "    \"int\": int_variable,\n",
    "    \"float\": float_variable,\n",
    "    \"string\": str_variable,\n",
    "    \"list\": list_variable\n",
    "}"
   ]
  },
  {
   "cell_type": "markdown",
   "metadata": {},
   "source": [
    "### Printing and string formatting\n",
    "No we will check the variables that were created above. To do so we will use the `type()` and `print()` functions. \n",
    "\n",
    "We can simply print each variable using print(type(VARIABLE))...."
   ]
  },
  {
   "cell_type": "code",
   "execution_count": null,
   "metadata": {},
   "outputs": [],
   "source": [
    "print(type(int_variable))"
   ]
  },
  {
   "cell_type": "markdown",
   "metadata": {},
   "source": [
    "...We can add more information to the print using commas separated arguments..."
   ]
  },
  {
   "cell_type": "code",
   "execution_count": null,
   "metadata": {},
   "outputs": [],
   "source": [
    "print(\"Here I print the type: \", type(int_variable))"
   ]
  },
  {
   "cell_type": "markdown",
   "metadata": {},
   "source": [
    "...or we can use string formatting. The f-string formatting in the format `f\"\"` allows us to print out text and variables:"
   ]
  },
  {
   "cell_type": "code",
   "execution_count": null,
   "metadata": {},
   "outputs": [],
   "source": [
    "formatted_string1 = f\"Printing out the float: {float_variable}\"\n",
    "formatted_string2 = f\"Printing out the float with 2 decimal places: {float_variable:.2f}\"\n",
    "print(formatted_string1)\n",
    "print(formatted_string2)"
   ]
  },
  {
   "cell_type": "markdown",
   "metadata": {},
   "source": [
    "Try using the variables, print(), type(), and string formatting to get this output:\n",
    "`3 is a <class 'int'>, and 4.1 is a <class 'float'>!`\n",
    "<details>\n",
    "  <summary>SEE SOLUTION</summary>\n",
    "    \n",
    "  `solution_string = f\"{int_variable} is a {type(int_variable)}, and {float_variable} is a {type(float_variable)}!\"`\n",
    "    \n",
    "  `print(solution_string)`\n",
    "  \n",
    "</details>"
   ]
  },
  {
   "cell_type": "code",
   "execution_count": null,
   "metadata": {},
   "outputs": [],
   "source": [
    "## Your code here\n"
   ]
  },
  {
   "cell_type": "markdown",
   "metadata": {},
   "source": [
    "## References\n",
    "- https://www.educba.com/python-vs-c-plus-plus/\n"
   ]
  },
  {
   "cell_type": "code",
   "execution_count": null,
   "metadata": {},
   "outputs": [],
   "source": []
  }
 ],
 "metadata": {
  "kernelspec": {
   "display_name": "Python 3",
   "language": "python",
   "name": "python3"
  },
  "language_info": {
   "codemirror_mode": {
    "name": "ipython",
    "version": 3
   },
   "file_extension": ".py",
   "mimetype": "text/x-python",
   "name": "python",
   "nbconvert_exporter": "python",
   "pygments_lexer": "ipython3",
   "version": "3.6.10"
  }
 },
 "nbformat": 4,
 "nbformat_minor": 4
}
